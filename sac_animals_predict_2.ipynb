{
 "cells": [
  {
   "cell_type": "markdown",
   "metadata": {},
   "source": [
    "Notebook 4: Revised moel after learnings from the second EDA"
   ]
  },
  {
   "cell_type": "code",
   "execution_count": 1,
   "metadata": {},
   "outputs": [],
   "source": [
    "import pandas as pd\n",
    "import numpy as np\n",
    "import plotly.express as px\n",
    "import matplotlib.pyplot as plt\n",
    "from plotnine import *\n",
    "import itertools\n",
    "import seaborn as sns\n",
    "from sklearn.tree import DecisionTreeClassifier\n",
    "from sklearn.model_selection import cross_val_score, train_test_split\n",
    "from sklearn.metrics import accuracy_score\n",
    "from sklearn.pipeline import Pipeline\n",
    "from sklearn.preprocessing import LabelEncoder, StandardScaler\n",
    "from sklearn.metrics import confusion_matrix\n",
    "from sklearn.metrics import classification_report\n",
    "from sklearn.ensemble import RandomForestClassifier\n",
    "from sklearn.multiclass import OneVsRestClassifier\n",
    "from sklearn.model_selection import train_test_split, cross_val_score, cross_val_predict, StratifiedKFold, GridSearchCV\n",
    "from sklearn.feature_selection import SelectKBest\n",
    "from sklearn import tree\n",
    "%matplotlib inline\n",
    "\n",
    "df = pd.read_csv('sac_animals.csv', parse_dates=True)\n",
    "df = df[df['outcome_type'].isin(['ADOPTION' ,'FOSTER', 'RTO', 'EUTH', 'TRANSFER', 'RTF', 'DIED', 'EUTH VET'])]"
   ]
  },
  {
   "cell_type": "code",
   "execution_count": 2,
   "metadata": {},
   "outputs": [],
   "source": [
    "def plot_confusion_matrix(cm, classes,\n",
    "                          normalize=False,\n",
    "                          title='Confusion matrix',\n",
    "                          cmap=plt.cm.Blues):\n",
    "    \"\"\"\n",
    "    This function prints and plots the confusion matrix.\n",
    "    Normalization can be applied by setting `normalize=True`.\n",
    "    \"\"\"\n",
    "    if normalize:\n",
    "        cm = cm.astype('float') / cm.sum(axis=1)[:, np.newaxis]\n",
    "        print(\"Normalized confusion matrix\")\n",
    "    else:\n",
    "        print('Confusion matrix, without normalization')\n",
    "\n",
    "    plt.imshow(cm, interpolation='nearest', cmap=cmap)\n",
    "    plt.title(title)\n",
    "    plt.colorbar()\n",
    "    tick_marks = np.arange(len(classes))\n",
    "    plt.xticks(tick_marks, classes, rotation=45)\n",
    "    plt.yticks(tick_marks, classes)\n",
    "\n",
    "    fmt = '.2f' if normalize else 'd'\n",
    "    thresh = cm.max() / 2.\n",
    "    for i, j in itertools.product(range(cm.shape[0]), range(cm.shape[1])):\n",
    "        plt.text(j, i, format(cm[i, j], fmt),\n",
    "                 horizontalalignment=\"center\",\n",
    "                 color=\"white\" if cm[i, j] > thresh else \"black\")\n",
    "\n",
    "    plt.tight_layout()\n",
    "    plt.ylabel('True label')\n",
    "    plt.xlabel('Predicted label')"
   ]
  },
  {
   "cell_type": "markdown",
   "metadata": {},
   "source": [
    "Create intake month variable"
   ]
  },
  {
   "cell_type": "code",
   "execution_count": 3,
   "metadata": {},
   "outputs": [],
   "source": [
    "df['intake_date'] = pd.to_datetime(df['intake_date'])\n",
    "df['intake_month'] = df.intake_date.dt.month"
   ]
  },
  {
   "cell_type": "markdown",
   "metadata": {},
   "source": [
    "Grab features, spit data, encode and scale data"
   ]
  },
  {
   "cell_type": "code",
   "execution_count": 4,
   "metadata": {},
   "outputs": [],
   "source": [
    "df['outcome_type_clean'] = df['outcome_type']\n",
    "df.loc[df['outcome_type_clean'].isin(['DIED', 'EUTH', 'EUTH VET']), 'outcome_type_clean'] = 'DIED'\n",
    "\n",
    "c_data = df[['animal_type', 'animal_sex_clean', 'animal_intake_status', 'name_unknown', 'has_activity_number',\n",
    "            'animal_age_in_days', 'outcome_type_clean', 'intake_type', 'color_clean', 'intake_times', 'days_spent', 'intake_month']]\n",
    "\n",
    "c_data = c_data.dropna()\n",
    "y = c_data['outcome_type_clean']\n",
    "x = c_data.drop('outcome_type_clean', axis=1)\n",
    "x = x.apply(LabelEncoder().fit_transform)\n",
    "y = LabelEncoder().fit_transform(y)"
   ]
  },
  {
   "cell_type": "code",
   "execution_count": 5,
   "metadata": {},
   "outputs": [],
   "source": [
    "x_train, x_test, y_train, y_test = train_test_split(x, y, test_size=0.33, random_state=99, stratify=y)\n",
    "target_names = ['ADOPTION', 'DIED', 'FOSTER', 'RTF', 'RTO', 'TRANSFER']"
   ]
  },
  {
   "cell_type": "code",
   "execution_count": 6,
   "metadata": {},
   "outputs": [
    {
     "name": "stderr",
     "output_type": "stream",
     "text": [
      "<ipython-input-6-40b4b784e505>:2: SettingWithCopyWarning: \n",
      "A value is trying to be set on a copy of a slice from a DataFrame.\n",
      "Try using .loc[row_indexer,col_indexer] = value instead\n",
      "\n",
      "See the caveats in the documentation: https://pandas.pydata.org/pandas-docs/stable/user_guide/indexing.html#returning-a-view-versus-a-copy\n",
      "/Users/justingoss/Desktop/sac_animals/sac_animals/lib/python3.9/site-packages/pandas/core/indexing.py:1734: SettingWithCopyWarning: \n",
      "A value is trying to be set on a copy of a slice from a DataFrame.\n",
      "Try using .loc[row_indexer,col_indexer] = value instead\n",
      "\n",
      "See the caveats in the documentation: https://pandas.pydata.org/pandas-docs/stable/user_guide/indexing.html#returning-a-view-versus-a-copy\n",
      "<ipython-input-6-40b4b784e505>:3: SettingWithCopyWarning: \n",
      "A value is trying to be set on a copy of a slice from a DataFrame.\n",
      "Try using .loc[row_indexer,col_indexer] = value instead\n",
      "\n",
      "See the caveats in the documentation: https://pandas.pydata.org/pandas-docs/stable/user_guide/indexing.html#returning-a-view-versus-a-copy\n",
      "/Users/justingoss/Desktop/sac_animals/sac_animals/lib/python3.9/site-packages/pandas/core/indexing.py:1734: SettingWithCopyWarning: \n",
      "A value is trying to be set on a copy of a slice from a DataFrame.\n",
      "Try using .loc[row_indexer,col_indexer] = value instead\n",
      "\n",
      "See the caveats in the documentation: https://pandas.pydata.org/pandas-docs/stable/user_guide/indexing.html#returning-a-view-versus-a-copy\n"
     ]
    }
   ],
   "source": [
    "scaler = StandardScaler()\n",
    "x_train[['animal_age_in_days', 'days_spent']] = scaler.fit_transform(x_train[['animal_age_in_days', 'days_spent']])\n",
    "x_test[['animal_age_in_days', 'days_spent']] = scaler.transform(x_test[['animal_age_in_days', 'days_spent']])"
   ]
  },
  {
   "cell_type": "markdown",
   "metadata": {},
   "source": [
    "Set grid search"
   ]
  },
  {
   "cell_type": "code",
   "execution_count": 7,
   "metadata": {},
   "outputs": [],
   "source": [
    "criterion = ['gini', 'entropy']\n",
    "components = [175, 200, 225]\n",
    "estimators = [100, 250, 500]\n",
    "k = [10, 15, 20]\n",
    "cv = StratifiedKFold(3)"
   ]
  },
  {
   "cell_type": "markdown",
   "metadata": {},
   "source": [
    "Fit cross validated, tuned random forest model"
   ]
  },
  {
   "cell_type": "code",
   "execution_count": 8,
   "metadata": {},
   "outputs": [
    {
     "data": {
      "text/plain": [
       "GridSearchCV(cv=StratifiedKFold(n_splits=3, random_state=None, shuffle=False),\n",
       "             estimator=RandomForestClassifier(class_weight='balanced_subsample',\n",
       "                                              oob_score=True),\n",
       "             param_grid={'criterion': ['gini', 'entropy'],\n",
       "                         'n_estimators': [100, 250, 500]},\n",
       "             return_train_score=True, scoring='accuracy')"
      ]
     },
     "execution_count": 8,
     "metadata": {},
     "output_type": "execute_result"
    }
   ],
   "source": [
    "rf = RandomForestClassifier(class_weight='balanced_subsample', bootstrap=True, oob_score=True)\n",
    "\n",
    "rf_gridcv = GridSearchCV(estimator=rf, param_grid=dict(n_estimators=estimators, \n",
    "                                                     criterion=criterion), \n",
    "                         scoring='accuracy', cv=cv, return_train_score=True)\n",
    "\n",
    "rf_gridcv.fit(x_train, y_train)"
   ]
  },
  {
   "cell_type": "code",
   "execution_count": 9,
   "metadata": {},
   "outputs": [
    {
     "data": {
      "text/html": [
       "<div>\n",
       "<style scoped>\n",
       "    .dataframe tbody tr th:only-of-type {\n",
       "        vertical-align: middle;\n",
       "    }\n",
       "\n",
       "    .dataframe tbody tr th {\n",
       "        vertical-align: top;\n",
       "    }\n",
       "\n",
       "    .dataframe thead th {\n",
       "        text-align: right;\n",
       "    }\n",
       "</style>\n",
       "<table border=\"1\" class=\"dataframe\">\n",
       "  <thead>\n",
       "    <tr style=\"text-align: right;\">\n",
       "      <th></th>\n",
       "      <th>mean_fit_time</th>\n",
       "      <th>std_fit_time</th>\n",
       "      <th>mean_score_time</th>\n",
       "      <th>std_score_time</th>\n",
       "      <th>param_criterion</th>\n",
       "      <th>param_n_estimators</th>\n",
       "      <th>params</th>\n",
       "      <th>split0_test_score</th>\n",
       "      <th>split1_test_score</th>\n",
       "      <th>split2_test_score</th>\n",
       "      <th>mean_test_score</th>\n",
       "      <th>std_test_score</th>\n",
       "      <th>rank_test_score</th>\n",
       "      <th>split0_train_score</th>\n",
       "      <th>split1_train_score</th>\n",
       "      <th>split2_train_score</th>\n",
       "      <th>mean_train_score</th>\n",
       "      <th>std_train_score</th>\n",
       "    </tr>\n",
       "  </thead>\n",
       "  <tbody>\n",
       "    <tr>\n",
       "      <th>1</th>\n",
       "      <td>3.217579</td>\n",
       "      <td>0.009126</td>\n",
       "      <td>0.273061</td>\n",
       "      <td>0.002048</td>\n",
       "      <td>gini</td>\n",
       "      <td>250</td>\n",
       "      <td>{'criterion': 'gini', 'n_estimators': 250}</td>\n",
       "      <td>0.791593</td>\n",
       "      <td>0.777498</td>\n",
       "      <td>0.789301</td>\n",
       "      <td>0.786131</td>\n",
       "      <td>0.006176</td>\n",
       "      <td>1</td>\n",
       "      <td>0.980618</td>\n",
       "      <td>0.981373</td>\n",
       "      <td>0.980871</td>\n",
       "      <td>0.980954</td>\n",
       "      <td>0.000314</td>\n",
       "    </tr>\n",
       "    <tr>\n",
       "      <th>2</th>\n",
       "      <td>6.531744</td>\n",
       "      <td>0.018273</td>\n",
       "      <td>0.553563</td>\n",
       "      <td>0.019529</td>\n",
       "      <td>gini</td>\n",
       "      <td>500</td>\n",
       "      <td>{'criterion': 'gini', 'n_estimators': 500}</td>\n",
       "      <td>0.788195</td>\n",
       "      <td>0.778631</td>\n",
       "      <td>0.789301</td>\n",
       "      <td>0.785376</td>\n",
       "      <td>0.004791</td>\n",
       "      <td>2</td>\n",
       "      <td>0.980744</td>\n",
       "      <td>0.981499</td>\n",
       "      <td>0.980934</td>\n",
       "      <td>0.981059</td>\n",
       "      <td>0.000321</td>\n",
       "    </tr>\n",
       "    <tr>\n",
       "      <th>5</th>\n",
       "      <td>7.184374</td>\n",
       "      <td>0.017933</td>\n",
       "      <td>0.540613</td>\n",
       "      <td>0.012888</td>\n",
       "      <td>entropy</td>\n",
       "      <td>500</td>\n",
       "      <td>{'criterion': 'entropy', 'n_estimators': 500}</td>\n",
       "      <td>0.787944</td>\n",
       "      <td>0.779386</td>\n",
       "      <td>0.788798</td>\n",
       "      <td>0.785376</td>\n",
       "      <td>0.004250</td>\n",
       "      <td>3</td>\n",
       "      <td>0.980744</td>\n",
       "      <td>0.981499</td>\n",
       "      <td>0.980997</td>\n",
       "      <td>0.981080</td>\n",
       "      <td>0.000314</td>\n",
       "    </tr>\n",
       "    <tr>\n",
       "      <th>3</th>\n",
       "      <td>1.448513</td>\n",
       "      <td>0.006502</td>\n",
       "      <td>0.113576</td>\n",
       "      <td>0.003650</td>\n",
       "      <td>entropy</td>\n",
       "      <td>100</td>\n",
       "      <td>{'criterion': 'entropy', 'n_estimators': 100}</td>\n",
       "      <td>0.790964</td>\n",
       "      <td>0.775107</td>\n",
       "      <td>0.789553</td>\n",
       "      <td>0.785208</td>\n",
       "      <td>0.007166</td>\n",
       "      <td>4</td>\n",
       "      <td>0.980366</td>\n",
       "      <td>0.981499</td>\n",
       "      <td>0.980871</td>\n",
       "      <td>0.980912</td>\n",
       "      <td>0.000463</td>\n",
       "    </tr>\n",
       "    <tr>\n",
       "      <th>4</th>\n",
       "      <td>3.604280</td>\n",
       "      <td>0.059637</td>\n",
       "      <td>0.274213</td>\n",
       "      <td>0.003920</td>\n",
       "      <td>entropy</td>\n",
       "      <td>250</td>\n",
       "      <td>{'criterion': 'entropy', 'n_estimators': 250}</td>\n",
       "      <td>0.787189</td>\n",
       "      <td>0.777498</td>\n",
       "      <td>0.789050</td>\n",
       "      <td>0.784579</td>\n",
       "      <td>0.005064</td>\n",
       "      <td>5</td>\n",
       "      <td>0.980807</td>\n",
       "      <td>0.981373</td>\n",
       "      <td>0.980934</td>\n",
       "      <td>0.981038</td>\n",
       "      <td>0.000243</td>\n",
       "    </tr>\n",
       "  </tbody>\n",
       "</table>\n",
       "</div>"
      ],
      "text/plain": [
       "   mean_fit_time  std_fit_time  mean_score_time  std_score_time  \\\n",
       "1       3.217579      0.009126         0.273061        0.002048   \n",
       "2       6.531744      0.018273         0.553563        0.019529   \n",
       "5       7.184374      0.017933         0.540613        0.012888   \n",
       "3       1.448513      0.006502         0.113576        0.003650   \n",
       "4       3.604280      0.059637         0.274213        0.003920   \n",
       "\n",
       "  param_criterion param_n_estimators  \\\n",
       "1            gini                250   \n",
       "2            gini                500   \n",
       "5         entropy                500   \n",
       "3         entropy                100   \n",
       "4         entropy                250   \n",
       "\n",
       "                                          params  split0_test_score  \\\n",
       "1     {'criterion': 'gini', 'n_estimators': 250}           0.791593   \n",
       "2     {'criterion': 'gini', 'n_estimators': 500}           0.788195   \n",
       "5  {'criterion': 'entropy', 'n_estimators': 500}           0.787944   \n",
       "3  {'criterion': 'entropy', 'n_estimators': 100}           0.790964   \n",
       "4  {'criterion': 'entropy', 'n_estimators': 250}           0.787189   \n",
       "\n",
       "   split1_test_score  split2_test_score  mean_test_score  std_test_score  \\\n",
       "1           0.777498           0.789301         0.786131        0.006176   \n",
       "2           0.778631           0.789301         0.785376        0.004791   \n",
       "5           0.779386           0.788798         0.785376        0.004250   \n",
       "3           0.775107           0.789553         0.785208        0.007166   \n",
       "4           0.777498           0.789050         0.784579        0.005064   \n",
       "\n",
       "   rank_test_score  split0_train_score  split1_train_score  \\\n",
       "1                1            0.980618            0.981373   \n",
       "2                2            0.980744            0.981499   \n",
       "5                3            0.980744            0.981499   \n",
       "3                4            0.980366            0.981499   \n",
       "4                5            0.980807            0.981373   \n",
       "\n",
       "   split2_train_score  mean_train_score  std_train_score  \n",
       "1            0.980871          0.980954         0.000314  \n",
       "2            0.980934          0.981059         0.000321  \n",
       "5            0.980997          0.981080         0.000314  \n",
       "3            0.980871          0.980912         0.000463  \n",
       "4            0.980934          0.981038         0.000243  "
      ]
     },
     "execution_count": 9,
     "metadata": {},
     "output_type": "execute_result"
    }
   ],
   "source": [
    "results = pd.DataFrame(rf_gridcv.cv_results_)\n",
    "results.sort_values(by='rank_test_score', ascending=True, inplace=True)\n",
    "results.head()"
   ]
  },
  {
   "cell_type": "markdown",
   "metadata": {},
   "source": [
    "Model accuracy improves by about 4 percentage points, not bad"
   ]
  },
  {
   "cell_type": "code",
   "execution_count": 10,
   "metadata": {},
   "outputs": [
    {
     "name": "stdout",
     "output_type": "stream",
     "text": [
      "              precision    recall  f1-score   support\n",
      "\n",
      "    ADOPTION       0.82      0.88      0.85      4575\n",
      "        DIED       0.68      0.64      0.66      1231\n",
      "      FOSTER       0.82      0.82      0.82      3424\n",
      "         RTF       0.72      0.72      0.72       319\n",
      "         RTO       0.79      0.74      0.76      1593\n",
      "    TRANSFER       0.57      0.43      0.49       599\n",
      "\n",
      "    accuracy                           0.79     11741\n",
      "   macro avg       0.74      0.71      0.72     11741\n",
      "weighted avg       0.79      0.79      0.79     11741\n",
      "\n"
     ]
    }
   ],
   "source": [
    "rf_grid_pred = rf_gridcv.predict(x_test)\n",
    "print(classification_report(y_test, rf_grid_pred, target_names=target_names))"
   ]
  },
  {
   "cell_type": "code",
   "execution_count": 11,
   "metadata": {},
   "outputs": [
    {
     "name": "stdout",
     "output_type": "stream",
     "text": [
      "Normalized confusion matrix\n"
     ]
    },
    {
     "data": {
      "image/png": "[encoded data removed]",
      "text/plain": [
       "<Figure size 504x504 with 2 Axes>"
      ]
     },
     "metadata": {
      "needs_background": "light"
     },
     "output_type": "display_data"
    }
   ],
   "source": [
    "plt.figure(figsize=(7, 7))\n",
    "rf_cnf_mat = confusion_matrix(y_test, rf_grid_pred)\n",
    "plot_confusion_matrix(rf_cnf_mat, classes=target_names, normalize=True, title='Normalized confusion matrix')"
   ]
  },
  {
   "cell_type": "markdown",
   "metadata": {},
   "source": [
    "Still have a hard time predicting transfers, have trouble distinguishing them from adoptions and deaths. Deaths and euthenasias are just challenging to predict period."
   ]
  }
 ],
 "metadata": {
  "kernelspec": {
   "display_name": "Python 3",
   "language": "python",
   "name": "python3"
  },
  "language_info": {
   "codemirror_mode": {
    "name": "ipython",
    "version": 3
   },
   "file_extension": ".py",
   "mimetype": "text/x-python",
   "name": "python",
   "nbconvert_exporter": "python",
   "pygments_lexer": "ipython3",
   "version": "3.9.0"
  }
 },
 "nbformat": 4,
 "nbformat_minor": 4
}
