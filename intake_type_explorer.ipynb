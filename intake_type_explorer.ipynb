{
 "cells": [
  {
   "cell_type": "code",
   "execution_count": 1,
   "metadata": {},
   "outputs": [
    {
     "name": "stderr",
     "output_type": "stream",
     "text": [
      "/Users/justingoss/Desktop/sac_animals/sac_animals/lib/python3.9/site-packages/pandas/core/arrays/datetimes.py:1088: UserWarning: Converting to PeriodArray/Index representation will drop timezone information.\n"
     ]
    }
   ],
   "source": [
    "import pandas as pd\n",
    "import numpy as np\n",
    "import plotly.express as px\n",
    "import matplotlib.pyplot as plt\n",
    "from plotnine import *\n",
    "import itertools\n",
    "import seaborn as sns\n",
    "%matplotlib inline\n",
    "\n",
    "df = pd.read_csv('sac_animals.csv', parse_dates=True)\n",
    "\n",
    "df['intake_date'] = pd.to_datetime(df['intake_date'])\n",
    "df['intake_month'] = df.intake_date.dt.to_period('M').dt.to_timestamp()"
   ]
  },
  {
   "cell_type": "code",
   "execution_count": 2,
   "metadata": {},
   "outputs": [
    {
     "data": {
      "text/html": [
       "<div>\n",
       "<style scoped>\n",
       "    .dataframe tbody tr th:only-of-type {\n",
       "        vertical-align: middle;\n",
       "    }\n",
       "\n",
       "    .dataframe tbody tr th {\n",
       "        vertical-align: top;\n",
       "    }\n",
       "\n",
       "    .dataframe thead th {\n",
       "        text-align: right;\n",
       "    }\n",
       "</style>\n",
       "<table border=\"1\" class=\"dataframe\">\n",
       "  <thead>\n",
       "    <tr style=\"text-align: right;\">\n",
       "      <th></th>\n",
       "      <th>objectid</th>\n",
       "      <th>animal_id</th>\n",
       "      <th>animal_name</th>\n",
       "      <th>animal_type</th>\n",
       "      <th>activity_number</th>\n",
       "      <th>intake_type</th>\n",
       "      <th>picked_up_location</th>\n",
       "      <th>intake_date</th>\n",
       "      <th>outcome_type</th>\n",
       "      <th>outcome_date</th>\n",
       "      <th>...</th>\n",
       "      <th>name_unknown</th>\n",
       "      <th>has_activity_number</th>\n",
       "      <th>animal_age_in_days</th>\n",
       "      <th>outcome_group</th>\n",
       "      <th>intake_type_clean</th>\n",
       "      <th>color_clean</th>\n",
       "      <th>intake_times</th>\n",
       "      <th>n</th>\n",
       "      <th>days_spent</th>\n",
       "      <th>intake_month</th>\n",
       "    </tr>\n",
       "  </thead>\n",
       "  <tbody>\n",
       "    <tr>\n",
       "      <th>0</th>\n",
       "      <td>1</td>\n",
       "      <td>A230281</td>\n",
       "      <td>GABBY</td>\n",
       "      <td>DOG</td>\n",
       "      <td>NaN</td>\n",
       "      <td>STRAY</td>\n",
       "      <td>H ST &amp; 33RD ST</td>\n",
       "      <td>2020-01-11 08:00:00+00:00</td>\n",
       "      <td>EUTH</td>\n",
       "      <td>2020-01-13 08:00:00+00:00</td>\n",
       "      <td>...</td>\n",
       "      <td>0</td>\n",
       "      <td>0</td>\n",
       "      <td>5110</td>\n",
       "      <td>dead</td>\n",
       "      <td>unowned</td>\n",
       "      <td>black</td>\n",
       "      <td>1</td>\n",
       "      <td>1</td>\n",
       "      <td>2</td>\n",
       "      <td>2020-01-01</td>\n",
       "    </tr>\n",
       "    <tr>\n",
       "      <th>1</th>\n",
       "      <td>2</td>\n",
       "      <td>A385870</td>\n",
       "      <td>PRINCESS</td>\n",
       "      <td>DOG</td>\n",
       "      <td>NaN</td>\n",
       "      <td>STRAY</td>\n",
       "      <td>4315 MARTIN LUTHER KING JR BLVD</td>\n",
       "      <td>2019-01-12 08:00:00+00:00</td>\n",
       "      <td>TRANSFER</td>\n",
       "      <td>2019-01-25 08:00:00+00:00</td>\n",
       "      <td>...</td>\n",
       "      <td>0</td>\n",
       "      <td>0</td>\n",
       "      <td>3285</td>\n",
       "      <td>other</td>\n",
       "      <td>unowned</td>\n",
       "      <td>other_solid</td>\n",
       "      <td>1</td>\n",
       "      <td>1</td>\n",
       "      <td>13</td>\n",
       "      <td>2019-01-01</td>\n",
       "    </tr>\n",
       "    <tr>\n",
       "      <th>2</th>\n",
       "      <td>3</td>\n",
       "      <td>A423284</td>\n",
       "      <td>SPARKY</td>\n",
       "      <td>DOG</td>\n",
       "      <td>NaN</td>\n",
       "      <td>STRAY</td>\n",
       "      <td>1255 LAMBERTON CIRCLE</td>\n",
       "      <td>2019-08-31 07:00:00+00:00</td>\n",
       "      <td>RTO</td>\n",
       "      <td>2019-08-31 07:00:00+00:00</td>\n",
       "      <td>...</td>\n",
       "      <td>0</td>\n",
       "      <td>0</td>\n",
       "      <td>2920</td>\n",
       "      <td>to_owner</td>\n",
       "      <td>unowned</td>\n",
       "      <td>other_solid</td>\n",
       "      <td>1</td>\n",
       "      <td>1</td>\n",
       "      <td>0</td>\n",
       "      <td>2019-08-01</td>\n",
       "    </tr>\n",
       "    <tr>\n",
       "      <th>3</th>\n",
       "      <td>4</td>\n",
       "      <td>A442002</td>\n",
       "      <td>MICKEY</td>\n",
       "      <td>DOG</td>\n",
       "      <td>NaN</td>\n",
       "      <td>STRAY</td>\n",
       "      <td>STOCKTON BLVD &amp; LEMON HILL AVE</td>\n",
       "      <td>2017-12-20 08:00:00+00:00</td>\n",
       "      <td>RTO</td>\n",
       "      <td>2017-12-21 08:00:00+00:00</td>\n",
       "      <td>...</td>\n",
       "      <td>0</td>\n",
       "      <td>0</td>\n",
       "      <td>2920</td>\n",
       "      <td>to_owner</td>\n",
       "      <td>unowned</td>\n",
       "      <td>other_solid</td>\n",
       "      <td>1</td>\n",
       "      <td>1</td>\n",
       "      <td>1</td>\n",
       "      <td>2017-12-01</td>\n",
       "    </tr>\n",
       "    <tr>\n",
       "      <th>4</th>\n",
       "      <td>5</td>\n",
       "      <td>A443307</td>\n",
       "      <td>ZEUS</td>\n",
       "      <td>DOG</td>\n",
       "      <td>NaN</td>\n",
       "      <td>STRAY</td>\n",
       "      <td>2415 WESTERN AVE</td>\n",
       "      <td>2018-06-29 07:00:00+00:00</td>\n",
       "      <td>RTO</td>\n",
       "      <td>2018-07-01 07:00:00+00:00</td>\n",
       "      <td>...</td>\n",
       "      <td>0</td>\n",
       "      <td>0</td>\n",
       "      <td>3285</td>\n",
       "      <td>to_owner</td>\n",
       "      <td>unowned</td>\n",
       "      <td>black</td>\n",
       "      <td>1</td>\n",
       "      <td>1</td>\n",
       "      <td>2</td>\n",
       "      <td>2018-06-01</td>\n",
       "    </tr>\n",
       "  </tbody>\n",
       "</table>\n",
       "<p>5 rows × 26 columns</p>\n",
       "</div>"
      ],
      "text/plain": [
       "   objectid animal_id animal_name animal_type activity_number intake_type  \\\n",
       "0         1   A230281       GABBY         DOG             NaN       STRAY   \n",
       "1         2   A385870    PRINCESS         DOG             NaN       STRAY   \n",
       "2         3   A423284      SPARKY         DOG             NaN       STRAY   \n",
       "3         4   A442002      MICKEY         DOG             NaN       STRAY   \n",
       "4         5   A443307        ZEUS         DOG             NaN       STRAY   \n",
       "\n",
       "                picked_up_location               intake_date outcome_type  \\\n",
       "0                   H ST & 33RD ST 2020-01-11 08:00:00+00:00         EUTH   \n",
       "1  4315 MARTIN LUTHER KING JR BLVD 2019-01-12 08:00:00+00:00     TRANSFER   \n",
       "2            1255 LAMBERTON CIRCLE 2019-08-31 07:00:00+00:00          RTO   \n",
       "3   STOCKTON BLVD & LEMON HILL AVE 2017-12-20 08:00:00+00:00          RTO   \n",
       "4                 2415 WESTERN AVE 2018-06-29 07:00:00+00:00          RTO   \n",
       "\n",
       "                outcome_date  ... name_unknown has_activity_number  \\\n",
       "0  2020-01-13 08:00:00+00:00  ...            0                   0   \n",
       "1  2019-01-25 08:00:00+00:00  ...            0                   0   \n",
       "2  2019-08-31 07:00:00+00:00  ...            0                   0   \n",
       "3  2017-12-21 08:00:00+00:00  ...            0                   0   \n",
       "4  2018-07-01 07:00:00+00:00  ...            0                   0   \n",
       "\n",
       "  animal_age_in_days outcome_group intake_type_clean  color_clean  \\\n",
       "0               5110          dead           unowned        black   \n",
       "1               3285         other           unowned  other_solid   \n",
       "2               2920      to_owner           unowned  other_solid   \n",
       "3               2920      to_owner           unowned  other_solid   \n",
       "4               3285      to_owner           unowned        black   \n",
       "\n",
       "   intake_times  n  days_spent intake_month  \n",
       "0             1  1           2   2020-01-01  \n",
       "1             1  1          13   2019-01-01  \n",
       "2             1  1           0   2019-08-01  \n",
       "3             1  1           1   2017-12-01  \n",
       "4             1  1           2   2018-06-01  \n",
       "\n",
       "[5 rows x 26 columns]"
      ]
     },
     "execution_count": 2,
     "metadata": {},
     "output_type": "execute_result"
    }
   ],
   "source": [
    "df.head()"
   ]
  },
  {
   "cell_type": "code",
   "execution_count": 3,
   "metadata": {},
   "outputs": [],
   "source": [
    "lplot = df.groupby(['intake_month', 'intake_type']).size().to_frame().reset_index()\n",
    "lplot.columns = ['intake_month', 'intake_type', 'count']"
   ]
  },
  {
   "cell_type": "code",
   "execution_count": 4,
   "metadata": {},
   "outputs": [],
   "source": [
    "all_intakes = (\n",
    "    ggplot(lplot, aes(x = 'intake_month', y = 'count', group='intake_type', color='intake_type')) + geom_line() +\n",
    "    theme_minimal() + scale_x_datetime(date_breaks='6 months')\n",
    ")"
   ]
  },
  {
   "cell_type": "code",
   "execution_count": 5,
   "metadata": {},
   "outputs": [],
   "source": [
    "lplot_sub = lplot[~lplot['intake_type'].isin(['STRAY', 'FOSTER'])]"
   ]
  },
  {
   "cell_type": "code",
   "execution_count": 6,
   "metadata": {},
   "outputs": [],
   "source": [
    "intakes_sub = (\n",
    "    ggplot(lplot_sub, aes(x = 'intake_month', y = 'count', group='intake_type', color='intake_type')) + geom_line() +\n",
    "    theme_minimal() + scale_x_datetime(date_breaks='6 months')\n",
    ")"
   ]
  },
  {
   "cell_type": "code",
   "execution_count": 8,
   "metadata": {},
   "outputs": [
    {
     "name": "stderr",
     "output_type": "stream",
     "text": [
      "/Users/justingoss/Desktop/sac_animals/sac_animals/lib/python3.9/site-packages/plotnine/ggplot.py:848: PlotnineWarning: Filename: plotnine-save-334834514.pdf\n"
     ]
    }
   ],
   "source": [
    "save_as_pdf_pages([all_intakes, intakes_sub])"
   ]
  },
  {
   "cell_type": "code",
   "execution_count": 7,
   "metadata": {},
   "outputs": [],
   "source": [
    "all_days_spent = (\n",
    "    ggplot(df, aes(x = 'days_spent')) + geom_histogram(binwidth=100)\n",
    ")"
   ]
  },
  {
   "cell_type": "code",
   "execution_count": 8,
   "metadata": {},
   "outputs": [],
   "source": [
    "df = df[df['days_spent'] >= 0]"
   ]
  },
  {
   "cell_type": "code",
   "execution_count": 9,
   "metadata": {},
   "outputs": [],
   "source": [
    "days_spent_positive = (\n",
    "    ggplot(df, aes(x = 'days_spent')) + geom_histogram(binwidth=10)\n",
    ")"
   ]
  },
  {
   "cell_type": "code",
   "execution_count": null,
   "metadata": {},
   "outputs": [
    {
     "name": "stderr",
     "output_type": "stream",
     "text": [
      "/Users/justingoss/Desktop/sac_animals/sac_animals/lib/python3.9/site-packages/plotnine/ggplot.py:848: PlotnineWarning: Filename: plotnine-save-334791262.pdf\n"
     ]
    }
   ],
   "source": [
    "save_as_pdf_pages([all_days_spent, days_spent_positive])"
   ]
  },
  {
   "cell_type": "code",
   "execution_count": null,
   "metadata": {},
   "outputs": [],
   "source": []
  }
 ],
 "metadata": {
  "kernelspec": {
   "display_name": "Python 3",
   "language": "python",
   "name": "python3"
  },
  "language_info": {
   "codemirror_mode": {
    "name": "ipython",
    "version": 3
   },
   "file_extension": ".py",
   "mimetype": "text/x-python",
   "name": "python",
   "nbconvert_exporter": "python",
   "pygments_lexer": "ipython3",
   "version": "3.9.0"
  }
 },
 "nbformat": 4,
 "nbformat_minor": 4
}
