{
 "cells": [
  {
   "cell_type": "code",
   "execution_count": 22,
   "metadata": {},
   "outputs": [],
   "source": [
    "import pandas as pd\n",
    "import numpy as np\n",
    "import matplotlib.pyplot as plt\n",
    "import itertools\n",
    "from sklearn.linear_model import LinearRegression\n",
    "from sklearn.model_selection import cross_val_score, train_test_split\n",
    "from sklearn.metrics import accuracy_score, mean_squared_error, r2_score\n",
    "from sklearn.preprocessing import LabelEncoder, StandardScaler\n",
    "from sklearn.ensemble import GradientBoostingRegressor\n",
    "from sklearn.model_selection import train_test_split, cross_val_score, cross_val_predict, StratifiedKFold, GridSearchCV\n",
    "import seaborn as sns\n",
    "import xgboost as xgb\n",
    "from sklearn.metrics import mean_absolute_error\n",
    "%matplotlib inline\n",
    "\n",
    "df = pd.read_csv('sac_animals.csv', parse_dates=True)"
   ]
  },
  {
   "cell_type": "code",
   "execution_count": 23,
   "metadata": {},
   "outputs": [],
   "source": [
    "df.outcome_type.value_counts()\n",
    "df = df[df['outcome_type'].isin(['ADOPTION' ,'FOSTER', 'RTO', 'EUTH', 'TRANSFER', 'RTF', 'DIED', 'EUTH VET'])]\n",
    "df = df[df['days_spent'] > 0]"
   ]
  },
  {
   "cell_type": "code",
   "execution_count": 24,
   "metadata": {},
   "outputs": [],
   "source": [
    "c_data = df[['animal_type', 'animal_sex_clean', 'animal_intake_status', 'name_unknown', 'has_activity_number',\n",
    "            'animal_age_in_days', 'intake_type', 'color_clean', 'intake_times', 'days_spent']]\n",
    "\n",
    "x = c_data.drop('days_spent', axis=1)\n",
    "x = x.apply(LabelEncoder().fit_transform)\n",
    "y = c_data['days_spent']"
   ]
  },
  {
   "cell_type": "code",
   "execution_count": 25,
   "metadata": {},
   "outputs": [
    {
     "name": "stdout",
     "output_type": "stream",
     "text": [
      "<class 'pandas.core.frame.DataFrame'>\n",
      "Int64Index: 21953 entries, 0 to 37350\n",
      "Data columns (total 10 columns):\n",
      " #   Column                Non-Null Count  Dtype \n",
      "---  ------                --------------  ----- \n",
      " 0   animal_type           21953 non-null  object\n",
      " 1   animal_sex_clean      21953 non-null  object\n",
      " 2   animal_intake_status  21953 non-null  object\n",
      " 3   name_unknown          21953 non-null  int64 \n",
      " 4   has_activity_number   21953 non-null  int64 \n",
      " 5   animal_age_in_days    21953 non-null  int64 \n",
      " 6   intake_type           21953 non-null  object\n",
      " 7   color_clean           21953 non-null  object\n",
      " 8   intake_times          21953 non-null  int64 \n",
      " 9   days_spent            21953 non-null  int64 \n",
      "dtypes: int64(5), object(5)\n",
      "memory usage: 1.8+ MB\n"
     ]
    }
   ],
   "source": [
    "c_data.info()"
   ]
  },
  {
   "cell_type": "code",
   "execution_count": 4,
   "metadata": {},
   "outputs": [],
   "source": [
    "x_train, x_test, y_train, y_test = train_test_split(x, y, test_size=0.33, random_state=99)"
   ]
  },
  {
   "cell_type": "code",
   "execution_count": 5,
   "metadata": {},
   "outputs": [
    {
     "name": "stdout",
     "output_type": "stream",
     "text": [
      "Mean squared error: 526.01\n"
     ]
    }
   ],
   "source": [
    "print('Mean squared error: %.2f'\n",
    "      % mean_squared_error(y_test, [y.mean()] * len(y_test)))"
   ]
  },
  {
   "cell_type": "code",
   "execution_count": 6,
   "metadata": {},
   "outputs": [
    {
     "name": "stdout",
     "output_type": "stream",
     "text": [
      "Coefficients: \n",
      " [ 1.5544432   0.06405618  3.57622503 -3.08650014 -0.07197393  0.15101681\n",
      " -0.63954735  0.19273154 -2.88609108]\n",
      "Mean squared error: 514.26\n",
      "Coefficient of determination: 0.02\n"
     ]
    }
   ],
   "source": [
    "lr = LinearRegression()\n",
    "lr.fit(x_train, y_train)\n",
    "y_pred_lr = lr.predict(x_test)\n",
    "\n",
    "print('Coefficients: \\n', lr.coef_)\n",
    "\n",
    "print('Mean squared error: %.2f'\n",
    "      % mean_squared_error(y_test, y_pred_lr))\n",
    "# The coefficient of determination: 1 is perfect prediction\n",
    "print('Coefficient of determination: %.2f'\n",
    "      % r2_score(y_test, y_pred_lr))"
   ]
  },
  {
   "cell_type": "code",
   "execution_count": 7,
   "metadata": {},
   "outputs": [
    {
     "name": "stdout",
     "output_type": "stream",
     "text": [
      "Mean squared error: 339.24\n",
      "Coefficient of determination: 0.36\n"
     ]
    }
   ],
   "source": [
    "params = {'n_estimators': 100,\n",
    "          'max_depth': 6,\n",
    "          'min_samples_split': 5,\n",
    "          'learning_rate': 0.1,\n",
    "          'loss': 'ls',\n",
    "           'random_state': 0}\n",
    "\n",
    "gbr = GradientBoostingRegressor(**params).fit(x_train, y_train)\n",
    "y_pred_gbr = gbr.predict(x_test)\n",
    "\n",
    "print('Mean squared error: %.2f'\n",
    "      % mean_squared_error(y_test, y_pred_gbr))\n",
    "\n",
    "print('Coefficient of determination: %.2f'\n",
    "      % r2_score(y_test, y_pred_gbr))"
   ]
  },
  {
   "cell_type": "code",
   "execution_count": 8,
   "metadata": {},
   "outputs": [
    {
     "data": {
      "image/png": "[encoded data removed]",
      "text/plain": [
       "<Figure size 432x432 with 1 Axes>"
      ]
     },
     "metadata": {
      "needs_background": "light"
     },
     "output_type": "display_data"
    }
   ],
   "source": [
    "test_score = np.zeros((params['n_estimators'],), dtype=np.float64)\n",
    "for i, y_pred in enumerate(gbr.staged_predict(x_test)):\n",
    "    test_score[i] = gbr.loss_(y_test, y_pred)\n",
    "\n",
    "fig = plt.figure(figsize=(6, 6))\n",
    "plt.subplot(1, 1, 1)\n",
    "plt.title('Deviance')\n",
    "plt.plot(np.arange(params['n_estimators']) + 1, gbr.train_score_, 'b-',\n",
    "         label='Training Set Deviance')\n",
    "plt.plot(np.arange(params['n_estimators']) + 1, test_score, 'r-',\n",
    "         label='Test Set Deviance')\n",
    "plt.legend(loc='upper right')\n",
    "plt.xlabel('Boosting Iterations')\n",
    "plt.ylabel('Deviance')\n",
    "fig.tight_layout()\n",
    "plt.show()"
   ]
  },
  {
   "cell_type": "markdown",
   "metadata": {},
   "source": [
    "Looks like we're suffering from overfitting"
   ]
  },
  {
   "cell_type": "code",
   "execution_count": 9,
   "metadata": {},
   "outputs": [
    {
     "name": "stdout",
     "output_type": "stream",
     "text": [
      "Training score:  0.6830049212097641\n"
     ]
    }
   ],
   "source": [
    "xgbr = xgb.XGBRegressor(verbosity=1, n_estimators=200, max_depth=10, reg_alpha=0)\n",
    "xgbr.fit(x_train, y_train)\n",
    "score = xgbr.score(x_train, y_train)  \n",
    "print(\"Training score: \", score)"
   ]
  },
  {
   "cell_type": "code",
   "execution_count": 10,
   "metadata": {},
   "outputs": [
    {
     "name": "stdout",
     "output_type": "stream",
     "text": [
      "MSE: 453.30\n",
      "RMSE: 21.29\n"
     ]
    }
   ],
   "source": [
    "ypred = xgbr.predict(x_test)\n",
    "mse = mean_squared_error(y_test, ypred)\n",
    "print(\"MSE: %.2f\" % mse)\n",
    "print(\"RMSE: %.2f\" % (mse**(1/2.0)))"
   ]
  },
  {
   "cell_type": "markdown",
   "metadata": {},
   "source": [
    "Now it really seems like overfitting"
   ]
  },
  {
   "cell_type": "code",
   "execution_count": 11,
   "metadata": {},
   "outputs": [
    {
     "data": {
      "text/html": [
       "<div>\n",
       "<style scoped>\n",
       "    .dataframe tbody tr th:only-of-type {\n",
       "        vertical-align: middle;\n",
       "    }\n",
       "\n",
       "    .dataframe tbody tr th {\n",
       "        vertical-align: top;\n",
       "    }\n",
       "\n",
       "    .dataframe thead th {\n",
       "        text-align: right;\n",
       "    }\n",
       "</style>\n",
       "<table border=\"1\" class=\"dataframe\">\n",
       "  <thead>\n",
       "    <tr style=\"text-align: right;\">\n",
       "      <th></th>\n",
       "      <th>mean_fit_time</th>\n",
       "      <th>std_fit_time</th>\n",
       "      <th>mean_score_time</th>\n",
       "      <th>std_score_time</th>\n",
       "      <th>param_max_depth</th>\n",
       "      <th>param_min_child_weight</th>\n",
       "      <th>param_reg_alpha</th>\n",
       "      <th>param_reg_lambda</th>\n",
       "      <th>params</th>\n",
       "      <th>split0_test_score</th>\n",
       "      <th>...</th>\n",
       "      <th>mean_test_score</th>\n",
       "      <th>std_test_score</th>\n",
       "      <th>rank_test_score</th>\n",
       "      <th>split0_train_score</th>\n",
       "      <th>split1_train_score</th>\n",
       "      <th>split2_train_score</th>\n",
       "      <th>split3_train_score</th>\n",
       "      <th>split4_train_score</th>\n",
       "      <th>mean_train_score</th>\n",
       "      <th>std_train_score</th>\n",
       "    </tr>\n",
       "  </thead>\n",
       "  <tbody>\n",
       "    <tr>\n",
       "      <th>69</th>\n",
       "      <td>0.175234</td>\n",
       "      <td>0.005199</td>\n",
       "      <td>0.003688</td>\n",
       "      <td>0.000051</td>\n",
       "      <td>2</td>\n",
       "      <td>9</td>\n",
       "      <td>0.7</td>\n",
       "      <td>0.9</td>\n",
       "      <td>{'max_depth': 2, 'min_child_weight': 9, 'reg_a...</td>\n",
       "      <td>-8.329996</td>\n",
       "      <td>...</td>\n",
       "      <td>-8.561790</td>\n",
       "      <td>0.305061</td>\n",
       "      <td>1</td>\n",
       "      <td>-8.458940</td>\n",
       "      <td>-8.426811</td>\n",
       "      <td>-8.300520</td>\n",
       "      <td>-8.316985</td>\n",
       "      <td>-8.549159</td>\n",
       "      <td>-8.410483</td>\n",
       "      <td>0.092390</td>\n",
       "    </tr>\n",
       "    <tr>\n",
       "      <th>4</th>\n",
       "      <td>0.154590</td>\n",
       "      <td>0.011827</td>\n",
       "      <td>0.003352</td>\n",
       "      <td>0.000285</td>\n",
       "      <td>2</td>\n",
       "      <td>7</td>\n",
       "      <td>0</td>\n",
       "      <td>0.9</td>\n",
       "      <td>{'max_depth': 2, 'min_child_weight': 7, 'reg_a...</td>\n",
       "      <td>-8.344069</td>\n",
       "      <td>...</td>\n",
       "      <td>-8.568902</td>\n",
       "      <td>0.292209</td>\n",
       "      <td>2</td>\n",
       "      <td>-8.482845</td>\n",
       "      <td>-8.424740</td>\n",
       "      <td>-8.284212</td>\n",
       "      <td>-8.320631</td>\n",
       "      <td>-8.562387</td>\n",
       "      <td>-8.414963</td>\n",
       "      <td>0.102403</td>\n",
       "    </tr>\n",
       "    <tr>\n",
       "      <th>0</th>\n",
       "      <td>0.150934</td>\n",
       "      <td>0.017190</td>\n",
       "      <td>0.003229</td>\n",
       "      <td>0.000562</td>\n",
       "      <td>2</td>\n",
       "      <td>7</td>\n",
       "      <td>0</td>\n",
       "      <td>0</td>\n",
       "      <td>{'max_depth': 2, 'min_child_weight': 7, 'reg_a...</td>\n",
       "      <td>-8.372384</td>\n",
       "      <td>...</td>\n",
       "      <td>-8.569361</td>\n",
       "      <td>0.285743</td>\n",
       "      <td>3</td>\n",
       "      <td>-8.498623</td>\n",
       "      <td>-8.413598</td>\n",
       "      <td>-8.278935</td>\n",
       "      <td>-8.306864</td>\n",
       "      <td>-8.577968</td>\n",
       "      <td>-8.415198</td>\n",
       "      <td>0.112925</td>\n",
       "    </tr>\n",
       "    <tr>\n",
       "      <th>31</th>\n",
       "      <td>0.177189</td>\n",
       "      <td>0.015566</td>\n",
       "      <td>0.003609</td>\n",
       "      <td>0.000068</td>\n",
       "      <td>2</td>\n",
       "      <td>8</td>\n",
       "      <td>0.2</td>\n",
       "      <td>0.2</td>\n",
       "      <td>{'max_depth': 2, 'min_child_weight': 8, 'reg_a...</td>\n",
       "      <td>-8.354428</td>\n",
       "      <td>...</td>\n",
       "      <td>-8.569384</td>\n",
       "      <td>0.301718</td>\n",
       "      <td>4</td>\n",
       "      <td>-8.478484</td>\n",
       "      <td>-8.425635</td>\n",
       "      <td>-8.304676</td>\n",
       "      <td>-8.310303</td>\n",
       "      <td>-8.560667</td>\n",
       "      <td>-8.415953</td>\n",
       "      <td>0.098479</td>\n",
       "    </tr>\n",
       "    <tr>\n",
       "      <th>64</th>\n",
       "      <td>0.176388</td>\n",
       "      <td>0.002198</td>\n",
       "      <td>0.003713</td>\n",
       "      <td>0.000200</td>\n",
       "      <td>2</td>\n",
       "      <td>9</td>\n",
       "      <td>0.5</td>\n",
       "      <td>0.9</td>\n",
       "      <td>{'max_depth': 2, 'min_child_weight': 9, 'reg_a...</td>\n",
       "      <td>-8.356716</td>\n",
       "      <td>...</td>\n",
       "      <td>-8.569925</td>\n",
       "      <td>0.300003</td>\n",
       "      <td>5</td>\n",
       "      <td>-8.471729</td>\n",
       "      <td>-8.436682</td>\n",
       "      <td>-8.300547</td>\n",
       "      <td>-8.311878</td>\n",
       "      <td>-8.566934</td>\n",
       "      <td>-8.417554</td>\n",
       "      <td>0.100472</td>\n",
       "    </tr>\n",
       "  </tbody>\n",
       "</table>\n",
       "<p>5 rows × 24 columns</p>\n",
       "</div>"
      ],
      "text/plain": [
       "    mean_fit_time  std_fit_time  mean_score_time  std_score_time  \\\n",
       "69       0.175234      0.005199         0.003688        0.000051   \n",
       "4        0.154590      0.011827         0.003352        0.000285   \n",
       "0        0.150934      0.017190         0.003229        0.000562   \n",
       "31       0.177189      0.015566         0.003609        0.000068   \n",
       "64       0.176388      0.002198         0.003713        0.000200   \n",
       "\n",
       "   param_max_depth param_min_child_weight param_reg_alpha param_reg_lambda  \\\n",
       "69               2                      9             0.7              0.9   \n",
       "4                2                      7               0              0.9   \n",
       "0                2                      7               0                0   \n",
       "31               2                      8             0.2              0.2   \n",
       "64               2                      9             0.5              0.9   \n",
       "\n",
       "                                               params  split0_test_score  ...  \\\n",
       "69  {'max_depth': 2, 'min_child_weight': 9, 'reg_a...          -8.329996  ...   \n",
       "4   {'max_depth': 2, 'min_child_weight': 7, 'reg_a...          -8.344069  ...   \n",
       "0   {'max_depth': 2, 'min_child_weight': 7, 'reg_a...          -8.372384  ...   \n",
       "31  {'max_depth': 2, 'min_child_weight': 8, 'reg_a...          -8.354428  ...   \n",
       "64  {'max_depth': 2, 'min_child_weight': 9, 'reg_a...          -8.356716  ...   \n",
       "\n",
       "    mean_test_score  std_test_score  rank_test_score  split0_train_score  \\\n",
       "69        -8.561790        0.305061                1           -8.458940   \n",
       "4         -8.568902        0.292209                2           -8.482845   \n",
       "0         -8.569361        0.285743                3           -8.498623   \n",
       "31        -8.569384        0.301718                4           -8.478484   \n",
       "64        -8.569925        0.300003                5           -8.471729   \n",
       "\n",
       "    split1_train_score  split2_train_score  split3_train_score  \\\n",
       "69           -8.426811           -8.300520           -8.316985   \n",
       "4            -8.424740           -8.284212           -8.320631   \n",
       "0            -8.413598           -8.278935           -8.306864   \n",
       "31           -8.425635           -8.304676           -8.310303   \n",
       "64           -8.436682           -8.300547           -8.311878   \n",
       "\n",
       "    split4_train_score  mean_train_score  std_train_score  \n",
       "69           -8.549159         -8.410483         0.092390  \n",
       "4            -8.562387         -8.414963         0.102403  \n",
       "0            -8.577968         -8.415198         0.112925  \n",
       "31           -8.560667         -8.415953         0.098479  \n",
       "64           -8.566934         -8.417554         0.100472  \n",
       "\n",
       "[5 rows x 24 columns]"
      ]
     },
     "execution_count": 11,
     "metadata": {},
     "output_type": "execute_result"
    }
   ],
   "source": [
    "xgb_cv = GridSearchCV(estimator=xgbr, param_grid=dict(max_depth=[2],\n",
    "                                                     min_child_weight=[7, 8, 9],\n",
    "                                                     reg_alpha=[0, 0.2, 0.5, 0.7, 0.9],\n",
    "                                                     reg_lambda=[0, 0.2, 0.5, 0.7, 0.9]),\n",
    "                         return_train_score=True, scoring='neg_mean_absolute_error')\n",
    "\n",
    "xgb_cv.fit(x_train, y_train)\n",
    "\n",
    "results = pd.DataFrame(xgb_cv.cv_results_)\n",
    "results.sort_values(by='rank_test_score', ascending=True, inplace=True)\n",
    "results.head()"
   ]
  },
  {
   "cell_type": "code",
   "execution_count": 13,
   "metadata": {},
   "outputs": [
    {
     "name": "stdout",
     "output_type": "stream",
     "text": [
      "8.704951462266855\n"
     ]
    }
   ],
   "source": [
    "xgb_pred = xgb_cv.predict(x_test)\n",
    "print(mean_absolute_error(y_test, xgb_pred))"
   ]
  },
  {
   "cell_type": "code",
   "execution_count": 14,
   "metadata": {},
   "outputs": [],
   "source": [
    "import pickle\n",
    "pickle.dump(xgb_cv, open(\"sac_animals_predict_days.pkl\", 'wb'))"
   ]
  },
  {
   "cell_type": "code",
   "execution_count": null,
   "metadata": {},
   "outputs": [],
   "source": []
  },
  {
   "cell_type": "markdown",
   "metadata": {},
   "source": [
    "Looks like we have some outliers"
   ]
  },
  {
   "cell_type": "markdown",
   "metadata": {},
   "source": [
    "It appears rather than the outliers being the problem, the problem might be lack of variance in our data because nearly 70% of our observations fall between 0 and 10 days. How do we solve this? Should we bucket our days seeing this and try to predict using a classifier instead?"
   ]
  }
 ],
 "metadata": {
  "kernelspec": {
   "display_name": "Python 3",
   "language": "python",
   "name": "python3"
  },
  "language_info": {
   "codemirror_mode": {
    "name": "ipython",
    "version": 3
   },
   "file_extension": ".py",
   "mimetype": "text/x-python",
   "name": "python",
   "nbconvert_exporter": "python",
   "pygments_lexer": "ipython3",
   "version": "3.9.0"
  }
 },
 "nbformat": 4,
 "nbformat_minor": 4
}
