{
 "cells": [
  {
   "cell_type": "code",
   "execution_count": 1,
   "metadata": {},
   "outputs": [],
   "source": [
    "import pandas as pd\n",
    "import numpy as np\n",
    "import matplotlib.pyplot as plt\n",
    "import itertools\n",
    "from sklearn.linear_model import LinearRegression\n",
    "from sklearn.model_selection import cross_val_score, train_test_split\n",
    "from sklearn.metrics import accuracy_score, mean_squared_error, r2_score\n",
    "from sklearn.preprocessing import LabelEncoder, StandardScaler\n",
    "from sklearn.ensemble import GradientBoostingRegressor\n",
    "from sklearn.model_selection import train_test_split, cross_val_score, cross_val_predict, StratifiedKFold, GridSearchCV\n",
    "import seaborn as sns\n",
    "import xgboost as xgb\n",
    "%matplotlib inline\n",
    "\n",
    "df = pd.read_csv('sac_animals.csv', parse_dates=True)"
   ]
  },
  {
   "cell_type": "code",
   "execution_count": 2,
   "metadata": {},
   "outputs": [],
   "source": [
    "df.outcome_type.value_counts()\n",
    "df = df[df['outcome_type'].isin(['ADOPTION' ,'FOSTER', 'RTO', 'EUTH', 'TRANSFER', 'RTF', 'DIED', 'EUTH VET'])]\n",
    "df = df[df['days_spent'] > 0]"
   ]
  },
  {
   "cell_type": "code",
   "execution_count": 3,
   "metadata": {},
   "outputs": [],
   "source": [
    "c_data = df[['animal_type', 'animal_sex_clean', 'animal_intake_status', 'name_unknown', 'has_activity_number',\n",
    "            'animal_age_in_days', 'intake_type', 'color_clean', 'intake_times', 'days_spent']]\n",
    "c_data = c_data.dropna()\n",
    "\n",
    "x = c_data.drop('days_spent', axis=1)\n",
    "x = x.apply(LabelEncoder().fit_transform)\n",
    "y = c_data['days_spent']"
   ]
  },
  {
   "cell_type": "code",
   "execution_count": 4,
   "metadata": {},
   "outputs": [],
   "source": [
    "x_train, x_test, y_train, y_test = train_test_split(x, y, test_size=0.33, random_state=99)"
   ]
  },
  {
   "cell_type": "code",
   "execution_count": 5,
   "metadata": {},
   "outputs": [
    {
     "name": "stdout",
     "output_type": "stream",
     "text": [
      "Mean squared error: 526.01\n"
     ]
    }
   ],
   "source": [
    "print('Mean squared error: %.2f'\n",
    "      % mean_squared_error(y_test, [y.mean()] * len(y_test)))"
   ]
  },
  {
   "cell_type": "code",
   "execution_count": 6,
   "metadata": {},
   "outputs": [
    {
     "name": "stdout",
     "output_type": "stream",
     "text": [
      "Coefficients: \n",
      " [ 1.5544432   0.06405618  3.57622503 -3.08650014 -0.07197393  0.15101681\n",
      " -0.63954735  0.19273154 -2.88609108]\n",
      "Mean squared error: 514.26\n",
      "Coefficient of determination: 0.02\n"
     ]
    }
   ],
   "source": [
    "lr = LinearRegression()\n",
    "lr.fit(x_train, y_train)\n",
    "y_pred_lr = lr.predict(x_test)\n",
    "\n",
    "print('Coefficients: \\n', lr.coef_)\n",
    "\n",
    "print('Mean squared error: %.2f'\n",
    "      % mean_squared_error(y_test, y_pred_lr))\n",
    "# The coefficient of determination: 1 is perfect prediction\n",
    "print('Coefficient of determination: %.2f'\n",
    "      % r2_score(y_test, y_pred_lr))"
   ]
  },
  {
   "cell_type": "code",
   "execution_count": 7,
   "metadata": {},
   "outputs": [
    {
     "name": "stdout",
     "output_type": "stream",
     "text": [
      "Mean squared error: 339.24\n",
      "Coefficient of determination: 0.36\n"
     ]
    }
   ],
   "source": [
    "params = {'n_estimators': 100,\n",
    "          'max_depth': 6,\n",
    "          'min_samples_split': 5,\n",
    "          'learning_rate': 0.1,\n",
    "          'loss': 'ls',\n",
    "           'random_state': 0}\n",
    "\n",
    "gbr = GradientBoostingRegressor(**params).fit(x_train, y_train)\n",
    "y_pred_gbr = gbr.predict(x_test)\n",
    "\n",
    "print('Mean squared error: %.2f'\n",
    "      % mean_squared_error(y_test, y_pred_gbr))\n",
    "\n",
    "print('Coefficient of determination: %.2f'\n",
    "      % r2_score(y_test, y_pred_gbr))"
   ]
  },
  {
   "cell_type": "code",
   "execution_count": 8,
   "metadata": {},
   "outputs": [
    {
     "data": {
      "image/png": "[encoded data removed]",
      "text/plain": [
       "<Figure size 432x432 with 1 Axes>"
      ]
     },
     "metadata": {
      "needs_background": "light"
     },
     "output_type": "display_data"
    }
   ],
   "source": [
    "test_score = np.zeros((params['n_estimators'],), dtype=np.float64)\n",
    "for i, y_pred in enumerate(gbr.staged_predict(x_test)):\n",
    "    test_score[i] = gbr.loss_(y_test, y_pred)\n",
    "\n",
    "fig = plt.figure(figsize=(6, 6))\n",
    "plt.subplot(1, 1, 1)\n",
    "plt.title('Deviance')\n",
    "plt.plot(np.arange(params['n_estimators']) + 1, gbr.train_score_, 'b-',\n",
    "         label='Training Set Deviance')\n",
    "plt.plot(np.arange(params['n_estimators']) + 1, test_score, 'r-',\n",
    "         label='Test Set Deviance')\n",
    "plt.legend(loc='upper right')\n",
    "plt.xlabel('Boosting Iterations')\n",
    "plt.ylabel('Deviance')\n",
    "fig.tight_layout()\n",
    "plt.show()"
   ]
  },
  {
   "cell_type": "markdown",
   "metadata": {},
   "source": [
    "Looks like we're suffering from overfitting"
   ]
  },
  {
   "cell_type": "code",
   "execution_count": 9,
   "metadata": {},
   "outputs": [
    {
     "name": "stdout",
     "output_type": "stream",
     "text": [
      "Training score:  0.6830049212097641\n"
     ]
    }
   ],
   "source": [
    "xgbr = xgb.XGBRegressor(verbosity=1, n_estimators=200, max_depth=10, reg_alpha=0)\n",
    "xgbr.fit(x_train, y_train)\n",
    "score = xgbr.score(x_train, y_train)  \n",
    "print(\"Training score: \", score)"
   ]
  },
  {
   "cell_type": "code",
   "execution_count": 10,
   "metadata": {},
   "outputs": [
    {
     "name": "stdout",
     "output_type": "stream",
     "text": [
      "MSE: 453.30\n",
      "RMSE: 21.29\n"
     ]
    }
   ],
   "source": [
    "ypred = xgbr.predict(x_test)\n",
    "mse = mean_squared_error(y_test, ypred)\n",
    "print(\"MSE: %.2f\" % mse)\n",
    "print(\"RMSE: %.2f\" % (mse**(1/2.0)))"
   ]
  },
  {
   "cell_type": "markdown",
   "metadata": {},
   "source": [
    "Now it really seems like overfitting"
   ]
  },
  {
   "cell_type": "code",
   "execution_count": 11,
   "metadata": {},
   "outputs": [
    {
     "data": {
      "text/html": [
       "<div>\n",
       "<style scoped>\n",
       "    .dataframe tbody tr th:only-of-type {\n",
       "        vertical-align: middle;\n",
       "    }\n",
       "\n",
       "    .dataframe tbody tr th {\n",
       "        vertical-align: top;\n",
       "    }\n",
       "\n",
       "    .dataframe thead th {\n",
       "        text-align: right;\n",
       "    }\n",
       "</style>\n",
       "<table border=\"1\" class=\"dataframe\">\n",
       "  <thead>\n",
       "    <tr style=\"text-align: right;\">\n",
       "      <th></th>\n",
       "      <th>mean_fit_time</th>\n",
       "      <th>std_fit_time</th>\n",
       "      <th>mean_score_time</th>\n",
       "      <th>std_score_time</th>\n",
       "      <th>param_max_depth</th>\n",
       "      <th>param_min_child_weight</th>\n",
       "      <th>param_reg_alpha</th>\n",
       "      <th>param_reg_lambda</th>\n",
       "      <th>params</th>\n",
       "      <th>split0_test_score</th>\n",
       "      <th>...</th>\n",
       "      <th>mean_test_score</th>\n",
       "      <th>std_test_score</th>\n",
       "      <th>rank_test_score</th>\n",
       "      <th>split0_train_score</th>\n",
       "      <th>split1_train_score</th>\n",
       "      <th>split2_train_score</th>\n",
       "      <th>split3_train_score</th>\n",
       "      <th>split4_train_score</th>\n",
       "      <th>mean_train_score</th>\n",
       "      <th>std_train_score</th>\n",
       "    </tr>\n",
       "  </thead>\n",
       "  <tbody>\n",
       "    <tr>\n",
       "      <th>19</th>\n",
       "      <td>0.162489</td>\n",
       "      <td>0.003455</td>\n",
       "      <td>0.003716</td>\n",
       "      <td>0.000415</td>\n",
       "      <td>2</td>\n",
       "      <td>9</td>\n",
       "      <td>0</td>\n",
       "      <td>0.2</td>\n",
       "      <td>{'max_depth': 2, 'min_child_weight': 9, 'reg_a...</td>\n",
       "      <td>0.386995</td>\n",
       "      <td>...</td>\n",
       "      <td>0.368501</td>\n",
       "      <td>0.064766</td>\n",
       "      <td>1</td>\n",
       "      <td>0.402118</td>\n",
       "      <td>0.396235</td>\n",
       "      <td>0.433444</td>\n",
       "      <td>0.391395</td>\n",
       "      <td>0.399147</td>\n",
       "      <td>0.404468</td>\n",
       "      <td>0.014914</td>\n",
       "    </tr>\n",
       "    <tr>\n",
       "      <th>22</th>\n",
       "      <td>0.184207</td>\n",
       "      <td>0.017060</td>\n",
       "      <td>0.004082</td>\n",
       "      <td>0.000587</td>\n",
       "      <td>2</td>\n",
       "      <td>9</td>\n",
       "      <td>0.2</td>\n",
       "      <td>0.2</td>\n",
       "      <td>{'max_depth': 2, 'min_child_weight': 9, 'reg_a...</td>\n",
       "      <td>0.387158</td>\n",
       "      <td>...</td>\n",
       "      <td>0.368196</td>\n",
       "      <td>0.065616</td>\n",
       "      <td>2</td>\n",
       "      <td>0.401885</td>\n",
       "      <td>0.395832</td>\n",
       "      <td>0.433802</td>\n",
       "      <td>0.390975</td>\n",
       "      <td>0.399176</td>\n",
       "      <td>0.404334</td>\n",
       "      <td>0.015177</td>\n",
       "    </tr>\n",
       "    <tr>\n",
       "      <th>13</th>\n",
       "      <td>0.180043</td>\n",
       "      <td>0.027676</td>\n",
       "      <td>0.003477</td>\n",
       "      <td>0.000027</td>\n",
       "      <td>2</td>\n",
       "      <td>8</td>\n",
       "      <td>0.2</td>\n",
       "      <td>0.2</td>\n",
       "      <td>{'max_depth': 2, 'min_child_weight': 8, 'reg_a...</td>\n",
       "      <td>0.388079</td>\n",
       "      <td>...</td>\n",
       "      <td>0.368171</td>\n",
       "      <td>0.064958</td>\n",
       "      <td>3</td>\n",
       "      <td>0.403400</td>\n",
       "      <td>0.394489</td>\n",
       "      <td>0.433794</td>\n",
       "      <td>0.391275</td>\n",
       "      <td>0.399612</td>\n",
       "      <td>0.404514</td>\n",
       "      <td>0.015221</td>\n",
       "    </tr>\n",
       "    <tr>\n",
       "      <th>26</th>\n",
       "      <td>0.164697</td>\n",
       "      <td>0.014730</td>\n",
       "      <td>0.003590</td>\n",
       "      <td>0.000455</td>\n",
       "      <td>2</td>\n",
       "      <td>9</td>\n",
       "      <td>0.5</td>\n",
       "      <td>0.5</td>\n",
       "      <td>{'max_depth': 2, 'min_child_weight': 9, 'reg_a...</td>\n",
       "      <td>0.385449</td>\n",
       "      <td>...</td>\n",
       "      <td>0.367857</td>\n",
       "      <td>0.065190</td>\n",
       "      <td>4</td>\n",
       "      <td>0.402286</td>\n",
       "      <td>0.395753</td>\n",
       "      <td>0.433627</td>\n",
       "      <td>0.391605</td>\n",
       "      <td>0.398380</td>\n",
       "      <td>0.404330</td>\n",
       "      <td>0.015056</td>\n",
       "    </tr>\n",
       "    <tr>\n",
       "      <th>21</th>\n",
       "      <td>0.167220</td>\n",
       "      <td>0.016250</td>\n",
       "      <td>0.004123</td>\n",
       "      <td>0.000515</td>\n",
       "      <td>2</td>\n",
       "      <td>9</td>\n",
       "      <td>0.2</td>\n",
       "      <td>0</td>\n",
       "      <td>{'max_depth': 2, 'min_child_weight': 9, 'reg_a...</td>\n",
       "      <td>0.386080</td>\n",
       "      <td>...</td>\n",
       "      <td>0.367751</td>\n",
       "      <td>0.065673</td>\n",
       "      <td>5</td>\n",
       "      <td>0.401380</td>\n",
       "      <td>0.395939</td>\n",
       "      <td>0.433063</td>\n",
       "      <td>0.391127</td>\n",
       "      <td>0.398862</td>\n",
       "      <td>0.404074</td>\n",
       "      <td>0.014890</td>\n",
       "    </tr>\n",
       "  </tbody>\n",
       "</table>\n",
       "<p>5 rows × 24 columns</p>\n",
       "</div>"
      ],
      "text/plain": [
       "    mean_fit_time  std_fit_time  mean_score_time  std_score_time  \\\n",
       "19       0.162489      0.003455         0.003716        0.000415   \n",
       "22       0.184207      0.017060         0.004082        0.000587   \n",
       "13       0.180043      0.027676         0.003477        0.000027   \n",
       "26       0.164697      0.014730         0.003590        0.000455   \n",
       "21       0.167220      0.016250         0.004123        0.000515   \n",
       "\n",
       "   param_max_depth param_min_child_weight param_reg_alpha param_reg_lambda  \\\n",
       "19               2                      9               0              0.2   \n",
       "22               2                      9             0.2              0.2   \n",
       "13               2                      8             0.2              0.2   \n",
       "26               2                      9             0.5              0.5   \n",
       "21               2                      9             0.2                0   \n",
       "\n",
       "                                               params  split0_test_score  ...  \\\n",
       "19  {'max_depth': 2, 'min_child_weight': 9, 'reg_a...           0.386995  ...   \n",
       "22  {'max_depth': 2, 'min_child_weight': 9, 'reg_a...           0.387158  ...   \n",
       "13  {'max_depth': 2, 'min_child_weight': 8, 'reg_a...           0.388079  ...   \n",
       "26  {'max_depth': 2, 'min_child_weight': 9, 'reg_a...           0.385449  ...   \n",
       "21  {'max_depth': 2, 'min_child_weight': 9, 'reg_a...           0.386080  ...   \n",
       "\n",
       "    mean_test_score  std_test_score  rank_test_score  split0_train_score  \\\n",
       "19         0.368501        0.064766                1            0.402118   \n",
       "22         0.368196        0.065616                2            0.401885   \n",
       "13         0.368171        0.064958                3            0.403400   \n",
       "26         0.367857        0.065190                4            0.402286   \n",
       "21         0.367751        0.065673                5            0.401380   \n",
       "\n",
       "    split1_train_score  split2_train_score  split3_train_score  \\\n",
       "19            0.396235            0.433444            0.391395   \n",
       "22            0.395832            0.433802            0.390975   \n",
       "13            0.394489            0.433794            0.391275   \n",
       "26            0.395753            0.433627            0.391605   \n",
       "21            0.395939            0.433063            0.391127   \n",
       "\n",
       "    split4_train_score  mean_train_score  std_train_score  \n",
       "19            0.399147          0.404468         0.014914  \n",
       "22            0.399176          0.404334         0.015177  \n",
       "13            0.399612          0.404514         0.015221  \n",
       "26            0.398380          0.404330         0.015056  \n",
       "21            0.398862          0.404074         0.014890  \n",
       "\n",
       "[5 rows x 24 columns]"
      ]
     },
     "execution_count": 11,
     "metadata": {},
     "output_type": "execute_result"
    }
   ],
   "source": [
    "xgb_cv = GridSearchCV(estimator=xgbr, param_grid=dict(max_depth=[2, 4],\n",
    "                                                     min_child_weight=[7, 8, 9],\n",
    "                                                     reg_alpha=[0, 0.2, 0.5],\n",
    "                                                     reg_lambda=[0, 0.2, 0.5]),\n",
    "                         return_train_score=True)\n",
    "\n",
    "xgb_cv.fit(x_train, y_train)\n",
    "\n",
    "results = pd.DataFrame(xgb_cv.cv_results_)\n",
    "results.sort_values(by='rank_test_score', ascending=True, inplace=True)\n",
    "results.head()"
   ]
  },
  {
   "cell_type": "code",
   "execution_count": 15,
   "metadata": {},
   "outputs": [
    {
     "data": {
      "text/plain": [
       "<AxesSubplot:xlabel='days_spent', ylabel='Count'>"
      ]
     },
     "execution_count": 15,
     "metadata": {},
     "output_type": "execute_result"
    },
    {
     "data": {
      "image/png": "[encoded data removed]",
      "text/plain": [
       "<Figure size 432x288 with 1 Axes>"
      ]
     },
     "metadata": {
      "needs_background": "light"
     },
     "output_type": "display_data"
    }
   ],
   "source": [
    "sns.histplot(x=df.days_spent)"
   ]
  },
  {
   "cell_type": "markdown",
   "metadata": {},
   "source": [
    "Looks like we have some outliers"
   ]
  },
  {
   "cell_type": "code",
   "execution_count": 12,
   "metadata": {},
   "outputs": [
    {
     "name": "stdout",
     "output_type": "stream",
     "text": [
      "1\n",
      "521\n",
      "11.712066687924201\n",
      "6.0\n",
      "23.212324263224737\n"
     ]
    }
   ],
   "source": [
    "print(df.days_spent.min())\n",
    "print(df.days_spent.max())\n",
    "print(df.days_spent.mean())\n",
    "print(df.days_spent.median())\n",
    "print(df.days_spent.std())"
   ]
  },
  {
   "cell_type": "code",
   "execution_count": 14,
   "metadata": {},
   "outputs": [
    {
     "name": "stdout",
     "output_type": "stream",
     "text": [
      "197\n",
      "21953\n"
     ]
    }
   ],
   "source": [
    "#Try without outliers\n",
    "print(len(c_data[c_data['days_spent'] >= 100]))\n",
    "print(len(c_data))"
   ]
  },
  {
   "cell_type": "code",
   "execution_count": 15,
   "metadata": {},
   "outputs": [],
   "source": [
    "c_data_remove_outliers = c_data[c_data['days_spent'] < 100]"
   ]
  },
  {
   "cell_type": "code",
   "execution_count": 16,
   "metadata": {},
   "outputs": [],
   "source": [
    "x_no_outliers = c_data_remove_outliers.drop('days_spent', axis=1)\n",
    "x_no_outliers = x_no_outliers.apply(LabelEncoder().fit_transform)\n",
    "y_no_outliers = c_data_remove_outliers['days_spent']"
   ]
  },
  {
   "cell_type": "code",
   "execution_count": 17,
   "metadata": {},
   "outputs": [],
   "source": [
    "x_train, x_test, y_train, y_test = train_test_split(x_no_outliers, y_no_outliers, test_size=0.33, random_state=99)"
   ]
  },
  {
   "cell_type": "code",
   "execution_count": 18,
   "metadata": {},
   "outputs": [
    {
     "name": "stdout",
     "output_type": "stream",
     "text": [
      "Training score:  0.41268209600660477\n"
     ]
    }
   ],
   "source": [
    "xgbr = xgb.XGBRegressor(verbosity=1, n_estimators=200, max_depth=10, reg_alpha=0)\n",
    "xgbr.fit(x_train, y_train)\n",
    "score = xgbr.score(x_train, y_train)  \n",
    "print(\"Training score: \", score)"
   ]
  },
  {
   "cell_type": "code",
   "execution_count": 19,
   "metadata": {},
   "outputs": [
    {
     "data": {
      "text/html": [
       "<div>\n",
       "<style scoped>\n",
       "    .dataframe tbody tr th:only-of-type {\n",
       "        vertical-align: middle;\n",
       "    }\n",
       "\n",
       "    .dataframe tbody tr th {\n",
       "        vertical-align: top;\n",
       "    }\n",
       "\n",
       "    .dataframe thead th {\n",
       "        text-align: right;\n",
       "    }\n",
       "</style>\n",
       "<table border=\"1\" class=\"dataframe\">\n",
       "  <thead>\n",
       "    <tr style=\"text-align: right;\">\n",
       "      <th></th>\n",
       "      <th>mean_fit_time</th>\n",
       "      <th>std_fit_time</th>\n",
       "      <th>mean_score_time</th>\n",
       "      <th>std_score_time</th>\n",
       "      <th>param_max_depth</th>\n",
       "      <th>param_min_child_weight</th>\n",
       "      <th>param_reg_alpha</th>\n",
       "      <th>param_reg_lambda</th>\n",
       "      <th>params</th>\n",
       "      <th>split0_test_score</th>\n",
       "      <th>...</th>\n",
       "      <th>mean_test_score</th>\n",
       "      <th>std_test_score</th>\n",
       "      <th>rank_test_score</th>\n",
       "      <th>split0_train_score</th>\n",
       "      <th>split1_train_score</th>\n",
       "      <th>split2_train_score</th>\n",
       "      <th>split3_train_score</th>\n",
       "      <th>split4_train_score</th>\n",
       "      <th>mean_train_score</th>\n",
       "      <th>std_train_score</th>\n",
       "    </tr>\n",
       "  </thead>\n",
       "  <tbody>\n",
       "    <tr>\n",
       "      <th>20</th>\n",
       "      <td>0.166602</td>\n",
       "      <td>0.005622</td>\n",
       "      <td>0.003652</td>\n",
       "      <td>0.000201</td>\n",
       "      <td>2</td>\n",
       "      <td>9</td>\n",
       "      <td>0</td>\n",
       "      <td>0.5</td>\n",
       "      <td>{'max_depth': 2, 'min_child_weight': 9, 'reg_a...</td>\n",
       "      <td>0.116246</td>\n",
       "      <td>...</td>\n",
       "      <td>0.137660</td>\n",
       "      <td>0.011233</td>\n",
       "      <td>1</td>\n",
       "      <td>0.166505</td>\n",
       "      <td>0.157728</td>\n",
       "      <td>0.158469</td>\n",
       "      <td>0.162292</td>\n",
       "      <td>0.160713</td>\n",
       "      <td>0.161141</td>\n",
       "      <td>0.003133</td>\n",
       "    </tr>\n",
       "    <tr>\n",
       "      <th>19</th>\n",
       "      <td>0.176016</td>\n",
       "      <td>0.010460</td>\n",
       "      <td>0.004218</td>\n",
       "      <td>0.000797</td>\n",
       "      <td>2</td>\n",
       "      <td>9</td>\n",
       "      <td>0</td>\n",
       "      <td>0.2</td>\n",
       "      <td>{'max_depth': 2, 'min_child_weight': 9, 'reg_a...</td>\n",
       "      <td>0.115927</td>\n",
       "      <td>...</td>\n",
       "      <td>0.137623</td>\n",
       "      <td>0.011524</td>\n",
       "      <td>2</td>\n",
       "      <td>0.165574</td>\n",
       "      <td>0.158167</td>\n",
       "      <td>0.159183</td>\n",
       "      <td>0.162165</td>\n",
       "      <td>0.160101</td>\n",
       "      <td>0.161038</td>\n",
       "      <td>0.002623</td>\n",
       "    </tr>\n",
       "    <tr>\n",
       "      <th>2</th>\n",
       "      <td>0.165451</td>\n",
       "      <td>0.012512</td>\n",
       "      <td>0.003353</td>\n",
       "      <td>0.000116</td>\n",
       "      <td>2</td>\n",
       "      <td>7</td>\n",
       "      <td>0</td>\n",
       "      <td>0.5</td>\n",
       "      <td>{'max_depth': 2, 'min_child_weight': 7, 'reg_a...</td>\n",
       "      <td>0.116161</td>\n",
       "      <td>...</td>\n",
       "      <td>0.137464</td>\n",
       "      <td>0.011157</td>\n",
       "      <td>3</td>\n",
       "      <td>0.166423</td>\n",
       "      <td>0.158589</td>\n",
       "      <td>0.159421</td>\n",
       "      <td>0.162481</td>\n",
       "      <td>0.159882</td>\n",
       "      <td>0.161359</td>\n",
       "      <td>0.002847</td>\n",
       "    </tr>\n",
       "    <tr>\n",
       "      <th>16</th>\n",
       "      <td>0.184142</td>\n",
       "      <td>0.008062</td>\n",
       "      <td>0.003666</td>\n",
       "      <td>0.000092</td>\n",
       "      <td>2</td>\n",
       "      <td>8</td>\n",
       "      <td>0.5</td>\n",
       "      <td>0.2</td>\n",
       "      <td>{'max_depth': 2, 'min_child_weight': 8, 'reg_a...</td>\n",
       "      <td>0.116161</td>\n",
       "      <td>...</td>\n",
       "      <td>0.137459</td>\n",
       "      <td>0.011199</td>\n",
       "      <td>4</td>\n",
       "      <td>0.166130</td>\n",
       "      <td>0.159214</td>\n",
       "      <td>0.158742</td>\n",
       "      <td>0.162121</td>\n",
       "      <td>0.160264</td>\n",
       "      <td>0.161294</td>\n",
       "      <td>0.002682</td>\n",
       "    </tr>\n",
       "    <tr>\n",
       "      <th>6</th>\n",
       "      <td>0.182668</td>\n",
       "      <td>0.045908</td>\n",
       "      <td>0.003562</td>\n",
       "      <td>0.000385</td>\n",
       "      <td>2</td>\n",
       "      <td>7</td>\n",
       "      <td>0.5</td>\n",
       "      <td>0</td>\n",
       "      <td>{'max_depth': 2, 'min_child_weight': 7, 'reg_a...</td>\n",
       "      <td>0.116298</td>\n",
       "      <td>...</td>\n",
       "      <td>0.137383</td>\n",
       "      <td>0.011104</td>\n",
       "      <td>5</td>\n",
       "      <td>0.166619</td>\n",
       "      <td>0.159214</td>\n",
       "      <td>0.159186</td>\n",
       "      <td>0.162400</td>\n",
       "      <td>0.159226</td>\n",
       "      <td>0.161329</td>\n",
       "      <td>0.002920</td>\n",
       "    </tr>\n",
       "  </tbody>\n",
       "</table>\n",
       "<p>5 rows × 24 columns</p>\n",
       "</div>"
      ],
      "text/plain": [
       "    mean_fit_time  std_fit_time  mean_score_time  std_score_time  \\\n",
       "20       0.166602      0.005622         0.003652        0.000201   \n",
       "19       0.176016      0.010460         0.004218        0.000797   \n",
       "2        0.165451      0.012512         0.003353        0.000116   \n",
       "16       0.184142      0.008062         0.003666        0.000092   \n",
       "6        0.182668      0.045908         0.003562        0.000385   \n",
       "\n",
       "   param_max_depth param_min_child_weight param_reg_alpha param_reg_lambda  \\\n",
       "20               2                      9               0              0.5   \n",
       "19               2                      9               0              0.2   \n",
       "2                2                      7               0              0.5   \n",
       "16               2                      8             0.5              0.2   \n",
       "6                2                      7             0.5                0   \n",
       "\n",
       "                                               params  split0_test_score  ...  \\\n",
       "20  {'max_depth': 2, 'min_child_weight': 9, 'reg_a...           0.116246  ...   \n",
       "19  {'max_depth': 2, 'min_child_weight': 9, 'reg_a...           0.115927  ...   \n",
       "2   {'max_depth': 2, 'min_child_weight': 7, 'reg_a...           0.116161  ...   \n",
       "16  {'max_depth': 2, 'min_child_weight': 8, 'reg_a...           0.116161  ...   \n",
       "6   {'max_depth': 2, 'min_child_weight': 7, 'reg_a...           0.116298  ...   \n",
       "\n",
       "    mean_test_score  std_test_score  rank_test_score  split0_train_score  \\\n",
       "20         0.137660        0.011233                1            0.166505   \n",
       "19         0.137623        0.011524                2            0.165574   \n",
       "2          0.137464        0.011157                3            0.166423   \n",
       "16         0.137459        0.011199                4            0.166130   \n",
       "6          0.137383        0.011104                5            0.166619   \n",
       "\n",
       "    split1_train_score  split2_train_score  split3_train_score  \\\n",
       "20            0.157728            0.158469            0.162292   \n",
       "19            0.158167            0.159183            0.162165   \n",
       "2             0.158589            0.159421            0.162481   \n",
       "16            0.159214            0.158742            0.162121   \n",
       "6             0.159214            0.159186            0.162400   \n",
       "\n",
       "    split4_train_score  mean_train_score  std_train_score  \n",
       "20            0.160713          0.161141         0.003133  \n",
       "19            0.160101          0.161038         0.002623  \n",
       "2             0.159882          0.161359         0.002847  \n",
       "16            0.160264          0.161294         0.002682  \n",
       "6             0.159226          0.161329         0.002920  \n",
       "\n",
       "[5 rows x 24 columns]"
      ]
     },
     "execution_count": 19,
     "metadata": {},
     "output_type": "execute_result"
    }
   ],
   "source": [
    "xgb_cv = GridSearchCV(estimator=xgbr, param_grid=dict(max_depth=[2],\n",
    "                                                     min_child_weight=[7, 8, 9],\n",
    "                                                     reg_alpha=[0, 0.2, 0.5],\n",
    "                                                     reg_lambda=[0, 0.2, 0.5]),\n",
    "                         return_train_score=True)\n",
    "\n",
    "xgb_cv.fit(x_train, y_train)\n",
    "\n",
    "results = pd.DataFrame(xgb_cv.cv_results_)\n",
    "results.sort_values(by='rank_test_score', ascending=True, inplace=True)\n",
    "results.head()"
   ]
  },
  {
   "cell_type": "markdown",
   "metadata": {},
   "source": [
    "We actually do worse without the outliers..."
   ]
  },
  {
   "cell_type": "markdown",
   "metadata": {},
   "source": []
  },
  {
   "cell_type": "code",
   "execution_count": 22,
   "metadata": {},
   "outputs": [
    {
     "data": {
      "text/plain": [
       "<AxesSubplot:xlabel='days_spent', ylabel='Probability'>"
      ]
     },
     "execution_count": 22,
     "metadata": {},
     "output_type": "execute_result"
    },
    {
     "data": {
      "image/png": "[encoded data removed]",
      "text/plain": [
       "<Figure size 432x288 with 1 Axes>"
      ]
     },
     "metadata": {
      "needs_background": "light"
     },
     "output_type": "display_data"
    }
   ],
   "source": [
    "sns.histplot(x=c_data_remove_outliers.days_spent, binwidth=10, stat='probability')"
   ]
  },
  {
   "cell_type": "markdown",
   "metadata": {},
   "source": [
    "It appears rather than the outliers being the problem, the problem might be lack of variance in our data because nearly 70% of our observations fall between 0 and 10 days. How do we solve this? Should we bucket our days seeing this and try to predict using a classifier instead?"
   ]
  }
 ],
 "metadata": {
  "kernelspec": {
   "display_name": "Python 3",
   "language": "python",
   "name": "python3"
  },
  "language_info": {
   "codemirror_mode": {
    "name": "ipython",
    "version": 3
   },
   "file_extension": ".py",
   "mimetype": "text/x-python",
   "name": "python",
   "nbconvert_exporter": "python",
   "pygments_lexer": "ipython3",
   "version": "3.9.0"
  }
 },
 "nbformat": 4,
 "nbformat_minor": 4
}
